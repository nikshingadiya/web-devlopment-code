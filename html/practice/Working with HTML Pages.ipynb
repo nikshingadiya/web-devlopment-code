{
 "cells": [
  {
   "cell_type": "code",
   "execution_count": 3,
   "metadata": {
    "ExecuteTime": {
     "end_time": "2020-06-19T17:26:14.419923Z",
     "start_time": "2020-06-19T17:26:14.384707Z"
    }
   },
   "outputs": [
    {
     "data": {
      "text/html": [
       "<html>\n",
       "  <head>\n",
       "  </head>\n",
       "\n",
       "  <body>\n",
       "    <h1>Integrating a Jupyter Notebook in a Web Page</h1>\n",
       "    <p>Some text.</p> \n",
       "\n",
       "    {% include overfitting.html %}\n",
       "    \n",
       "  </body>\n",
       "</html>\n"
      ],
      "text/plain": [
       "<IPython.core.display.HTML object>"
      ]
     },
     "metadata": {},
     "output_type": "display_data"
    }
   ],
   "source": [
    "%%HTML\n",
    "<html>\n",
    "  <head>\n",
    "  </head>\n",
    "\n",
    "  <body>\n",
    "    <h1>Integrating a Jupyter Notebook in a Web Page</h1>\n",
    "    <p>Some text.</p> \n",
    "\n",
    "    {% include overfitting.html %}\n",
    "    \n",
    "  </body>\n",
    "</html>"
   ]
  },
  {
   "cell_type": "code",
   "execution_count": 5,
   "metadata": {
    "ExecuteTime": {
     "end_time": "2020-06-19T17:31:14.986374Z",
     "start_time": "2020-06-19T17:31:14.966245Z"
    }
   },
   "outputs": [],
   "source": [
    "# %%HTML\n",
    "# import os\n",
    "\n",
    "# from jinja2 import Environment, FileSystemLoader\n",
    "\n",
    "# # this tells jinja2 to look for templates\n",
    "# # in the templates subdirectory\n",
    "# env = Environment(\n",
    "#     loader = FileSystemLoader('templates'),\n",
    "# )\n",
    "\n",
    "# input_file = 'main.html'\n",
    "# output_file = 'index.html'\n",
    "\n",
    "# # reading the template\n",
    "# template = env.get_template(input_file)\n",
    "# # render the template.\n",
    "# # in other words, we replace the template tag\n",
    "# # by the contents of the overfitting file\n",
    "# rendered = template.render()\n",
    "\n",
    "# # write the result to disk in index.html\n",
    "# with open(output_file, 'w') as ofile:\n",
    "#     ofile.write(rendered)"
   ]
  },
  {
   "cell_type": "code",
   "execution_count": null,
   "metadata": {},
   "outputs": [],
   "source": []
  }
 ],
 "metadata": {
  "kernelspec": {
   "display_name": "Python 3",
   "language": "python",
   "name": "python3"
  },
  "language_info": {
   "codemirror_mode": {
    "name": "ipython",
    "version": 3
   },
   "file_extension": ".py",
   "mimetype": "text/x-python",
   "name": "python",
   "nbconvert_exporter": "python",
   "pygments_lexer": "ipython3",
   "version": "3.7.6"
  },
  "toc": {
   "base_numbering": 1,
   "nav_menu": {},
   "number_sections": true,
   "sideBar": true,
   "skip_h1_title": false,
   "title_cell": "Table of Contents",
   "title_sidebar": "Contents",
   "toc_cell": false,
   "toc_position": {},
   "toc_section_display": true,
   "toc_window_display": false
  }
 },
 "nbformat": 4,
 "nbformat_minor": 4
}
